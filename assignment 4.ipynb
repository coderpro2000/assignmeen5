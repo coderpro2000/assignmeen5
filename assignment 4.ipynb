{
 "cells": [
  {
   "cell_type": "code",
   "execution_count": null,
   "metadata": {},
   "outputs": [],
   "source": [
    "What exactly is []?\n",
    "square bracket represent list type of data structure\n",
    "for ex -- l=[]\n",
    "type(l)\n",
    "output -- list"
   ]
  },
  {
   "cell_type": "code",
   "execution_count": null,
   "metadata": {},
   "outputs": [],
   "source": [
    "2. In a list of values stored in a variable called spam, how would you assign the value &#39;hello&#39; as the\n",
    "third value? (Assume [2, 4, 6, 8, 10] are in spam.)\n",
    "Let&#39;s pretend the spam includes the list [&#39;a&#39;, &#39;b&#39;, &#39;c&#39;, &#39;d&#39;] for the next three queries.\n",
    "\n",
    "solution--\n",
    "spam=[2,4,6,8,10]\n",
    "spam[3]=\"hello\"\n",
    "print(spam)\n",
    "output-- [2, 4, 6, 'hello', 10]"
   ]
  },
  {
   "cell_type": "code",
   "execution_count": 1,
   "metadata": {},
   "outputs": [
    {
     "name": "stdout",
     "output_type": "stream",
     "text": [
      "[2, 4, 6, 'hello', 10]\n"
     ]
    }
   ],
   "source": [
    "3. What is the value of spam[int(int('3'*2)/11)]?\n",
    "\n",
    "output-- 'hello'"
   ]
  },
  {
   "cell_type": "code",
   "execution_count": 3,
   "metadata": {},
   "outputs": [
    {
     "data": {
      "text/plain": [
       "'hello'"
      ]
     },
     "execution_count": 3,
     "metadata": {},
     "output_type": "execute_result"
    }
   ],
   "source": [
    "4. What is the value of spam[-1]?\n",
    "output--- 10"
   ]
  },
  {
   "cell_type": "code",
   "execution_count": 4,
   "metadata": {},
   "outputs": [
    {
     "data": {
      "text/plain": [
       "10"
      ]
     },
     "execution_count": 4,
     "metadata": {},
     "output_type": "execute_result"
    }
   ],
   "source": [
    "What is the value of spam[:2]?\n",
    "\n",
    "ouput--- [2, 4]"
   ]
  },
  {
   "cell_type": "code",
   "execution_count": 5,
   "metadata": {},
   "outputs": [
    {
     "data": {
      "text/plain": [
       "[2, 4]"
      ]
     },
     "execution_count": 5,
     "metadata": {},
     "output_type": "execute_result"
    }
   ],
   "source": [
    "What is the value of bacon.index('cat')?\n",
    "bacon=[3.14,'cat',11,'cat',True]\n",
    "output -- 1"
   ]
  },
  {
   "cell_type": "code",
   "execution_count": null,
   "metadata": {},
   "outputs": [],
   "source": [
    "How does bacon.append(99) change the look of the list value in bacon?\n",
    "bacon=[3.14,'cat',11,'cat',True]\n",
    "bacon.append(99)\n",
    "print(bacon)\n",
    "output -- [3.14, 'cat', 11, 'cat', True, 99]"
   ]
  },
  {
   "cell_type": "code",
   "execution_count": null,
   "metadata": {},
   "outputs": [],
   "source": [
    "How does bacon.remove('cat') change the look of the list in bacon?\n",
    "bacon=[3.14,'cat',11,'cat',True]\n",
    "bacon.remove('cat')\n",
    "print(bacon)\n",
    "[3.14, 11, 'cat', True]"
   ]
  },
  {
   "cell_type": "code",
   "execution_count": null,
   "metadata": {},
   "outputs": [],
   "source": [
    "What are the list concatenation and list replication operators?\n",
    "\n",
    "ans-- The operator for list concatenation is +, while the operator for replication is *."
   ]
  },
  {
   "cell_type": "code",
   "execution_count": null,
   "metadata": {},
   "outputs": [],
   "source": [
    "What is difference between the list methods append() and insert()?\n",
    " ans --- The difference is that with append, you just add a new entry at the end of the list. With insert(position, new_entry) \n",
    "    you can create a new entry exactly in the position you want."
   ]
  },
  {
   "cell_type": "code",
   "execution_count": null,
   "metadata": {},
   "outputs": [],
   "source": [
    "What are the two methods for removing items from a list?\n",
    "ans-- The list methods remove(), and pop() are meant to remove a single element."
   ]
  },
  {
   "cell_type": "code",
   "execution_count": null,
   "metadata": {},
   "outputs": [],
   "source": [
    "Describe how list values and string values are identical.\n",
    "The lists and strings are different in following ways : a The lists are mutable sequences while strings are immutable. ... c In\n",
    "    consecutive locations strings store the individual characters while list stores the references of its elements"
   ]
  },
  {
   "cell_type": "code",
   "execution_count": null,
   "metadata": {},
   "outputs": [],
   "source": [
    "What is the difference between tuples and lists?\n",
    "ans-- We can conclude that although both lists and tuples are data structures in Python, there are remarkable differences\n",
    "between the two, with the main difference being that lists are mutable while tuples are immutable. A list has a variable size\n",
    "while a tuple has a fixed size."
   ]
  },
  {
   "cell_type": "code",
   "execution_count": null,
   "metadata": {},
   "outputs": [],
   "source": [
    "14. How do you type a tuple value that only contains the integer 42?\n",
    "ans -- Tuples are immutable; they cannot be changed at all. Also, tuples are written using parentheses, ( and ), while lists \n",
    "use the square brackets, [ and ].tuple value that has just the integer value 42 in it? (42,)\n"
   ]
  },
  {
   "cell_type": "code",
   "execution_count": null,
   "metadata": {},
   "outputs": [],
   "source": [
    "How do you get a list value is tuple form? How do you get a tuple value is list form?\n",
    "ans-- Python list of tuples using list comprehension and tuple() method. Python tuple() method along with List Comprehension\n",
    "can be used to form a list of tuples. The tuple() function helps to create tuples from the set of elements passed to it.\n"
   ]
  },
  {
   "cell_type": "code",
   "execution_count": null,
   "metadata": {},
   "outputs": [],
   "source": [
    "17. How do you distinguish between copy.copy() and copy.deepcopy()?\n",
    "ans -- copy() create reference to original object. If you change copied object - you change the original object. . deepcopy() \n",
    "creates new object and does real copying of original object to new one"
   ]
  },
  {
   "cell_type": "code",
   "execution_count": null,
   "metadata": {},
   "outputs": [],
   "source": []
  }
 ],
 "metadata": {
  "kernelspec": {
   "display_name": "Python 3",
   "language": "python",
   "name": "python3"
  },
  "language_info": {
   "codemirror_mode": {
    "name": "ipython",
    "version": 3
   },
   "file_extension": ".py",
   "mimetype": "text/x-python",
   "name": "python",
   "nbconvert_exporter": "python",
   "pygments_lexer": "ipython3",
   "version": "3.7.6"
  }
 },
 "nbformat": 4,
 "nbformat_minor": 4
}
